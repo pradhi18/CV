{
  "nbformat": 4,
  "nbformat_minor": 0,
  "metadata": {
    "colab": {
      "name": "181112252_cv_assignment_2.ipynb",
      "provenance": [],
      "include_colab_link": true
    },
    "kernelspec": {
      "name": "python3",
      "display_name": "Python 3"
    },
    "language_info": {
      "name": "python"
    }
  },
  "cells": [
    {
      "cell_type": "markdown",
      "metadata": {
        "id": "view-in-github",
        "colab_type": "text"
      },
      "source": [
        "<a href=\"https://colab.research.google.com/github/pradhi18/CV/blob/master/181112252_cv_assignment_2.ipynb\" target=\"_parent\"><img src=\"https://colab.research.google.com/assets/colab-badge.svg\" alt=\"Open In Colab\"/></a>"
      ]
    },
    {
      "cell_type": "code",
      "metadata": {
        "id": "6LkneBCHfly2"
      },
      "source": [
        "from PIL import Image\n",
        "import numpy as np"
      ],
      "execution_count": 1,
      "outputs": []
    },
    {
      "cell_type": "code",
      "metadata": {
        "id": "QDSSm83Rf0aw"
      },
      "source": [
        "def dither_matrix(n:int):\n",
        "    if n == 1:\n",
        "        return np.array([[0]])\n",
        "    else:\n",
        "        first = (n ** 2) * dither_matrix(int(n/2))\n",
        "        second = (n ** 2) * dither_matrix(int(n/2)) + 2\n",
        "        third = (n ** 2) * dither_matrix(int(n/2)) + 3\n",
        "        fourth = (n ** 2) * dither_matrix(int(n/2)) + 1\n",
        "        first_col = np.concatenate((first, third), axis=0)\n",
        "        second_col = np.concatenate((second, fourth), axis=0)\n",
        "        return (1/n**2) * np.concatenate((first_col, second_col), axis=1)\n",
        "        "
      ],
      "execution_count": 2,
      "outputs": []
    },
    {
      "cell_type": "code",
      "metadata": {
        "id": "XyJ3ly6Qf2_z"
      },
      "source": [
        "def get_image(src:str):\n",
        "    img = np.array(Image.open(src))\n",
        "    img_arr = [[(j[0] * 299/1000) + (j[1] * 587/1000) + (j[2] * 114/1000) for j in r] for r in img]\n",
        "    img_gray = np.array(img_arr)\n",
        "    Image.fromarray(img_gray).convert('L').save('gray-scale.png')\n",
        "    return img_gray * (1/255)"
      ],
      "execution_count": 3,
      "outputs": []
    },
    {
      "cell_type": "code",
      "metadata": {
        "id": "bWBYfZQef5Mx"
      },
      "source": [
        "def ordered_dithering(img_pixel:np.array, dither_m:np.array):\n",
        "    n = np.size(dither_m, axis=0)\n",
        "    x_max = np.size(img_pixel, axis=1)\n",
        "    y_max = np.size(img_pixel, axis=0)\n",
        "    for x in range(x_max):\n",
        "        for y in range(y_max):\n",
        "            i = x % n\n",
        "            j = y % n\n",
        "            if img_pixel[y][x] > dither_m[i][j]:\n",
        "                img_pixel[y][x] = 255\n",
        "            else:\n",
        "                img_pixel[y][x] = 0\n",
        "\n",
        "    Image.fromarray(img_pixel).convert('L').save('dithered.png', bit=1)"
      ],
      "execution_count": 4,
      "outputs": []
    },
    {
      "cell_type": "code",
      "metadata": {
        "colab": {
          "base_uri": "https://localhost:8080/"
        },
        "id": "sCaTgOCtf88v",
        "outputId": "6ea1301f-d07a-49cf-96ff-eaf4afc37eb4"
      },
      "source": [
        "if __name__ == '__main__':\n",
        "    n = int(input('Enter size of dither matrix:'))\n",
        "    src = input('Enter source or name of your image:')\n",
        "    dm = dither_matrix(n)\n",
        "    img = get_image(src)\n",
        "    ordered_dithering(img, dm)"
      ],
      "execution_count": 5,
      "outputs": [
        {
          "name": "stdout",
          "output_type": "stream",
          "text": [
            "Enter size of dither matrix:1000\n",
            "Enter source or name of your image:/content/image.jpeg\n"
          ]
        }
      ]
    },
    {
      "cell_type": "code",
      "metadata": {
        "id": "gF_DzRKugDuI"
      },
      "source": [
        "from PIL import Image\n",
        "import numpy as np\n",
        "from google.colab.patches import cv2_imshow\n",
        "from skimage import io\n",
        "from skimage.io import imshow, imread\n",
        "from google.colab import files\n",
        "from IPython.display import Image\n"
      ],
      "execution_count": 6,
      "outputs": []
    },
    {
      "cell_type": "code",
      "metadata": {
        "colab": {
          "base_uri": "https://localhost:8080/",
          "height": 497
        },
        "id": "1XvSyKrzgnGz",
        "outputId": "5cd3fb94-4351-4b59-b934-cd1f69e575a1"
      },
      "source": [
        "ditheredimage = io.imread(\"dithered.png\")\n",
        "cv2_imshow(ditheredimage)\n"
      ],
      "execution_count": 7,
      "outputs": [
        {
          "output_type": "display_data",
          "data": {
            "image/png": "[encoded data removed]",
            "text/plain": [
              "<PIL.Image.Image image mode=L size=360x480 at 0x7F1F552EED10>"
            ]
          },
          "metadata": {}
        }
      ]
    },
    {
      "cell_type": "code",
      "metadata": {
        "id": "X0z0mctjgqwV"
      },
      "source": [
        ""
      ],
      "execution_count": null,
      "outputs": []
    }
  ]
}